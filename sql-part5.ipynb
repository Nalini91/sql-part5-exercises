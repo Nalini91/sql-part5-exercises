{
    "metadata": {
        "kernelspec": {
            "name": "SQL",
            "display_name": "SQL",
            "language": "sql"
        },
        "language_info": {
            "name": "sql",
            "version": ""
        }
    },
    "nbformat_minor": 2,
    "nbformat": 4,
    "cells": [
        {
            "cell_type": "markdown",
            "source": [
                "# Exercises: Creating, Updating, and Destroying Objects\n",
                "\n",
                "For the exercises, you will be working with objects and data you create. Before opening this notebook, make sure that you have set up the new connection to the server and that you have located the database and your schema.\n",
                "\n",
                "## Object Creation\n",
                "\n",
                "Before coding, think of three things you want to make. These could be coding projects, new recipes, or planned projects for a woodworking hobby. Brainstorm the appropriate column names and data types as well.\n",
                "\n",
                "Create a table under your schema called `planned_makes`."
            ],
            "metadata": {
                "azdata_cell_guid": "9d51c166-0c19-4f27-a422-2a6cf596bfb2"
            },
            "attachments": {}
        },
        {
            "cell_type": "code",
            "source": [
                "-- Used nalini schema, as I can't create new schema planned_makes\r\n",
                "CREATE table nalini.wood_working(\r\n",
                "    item_id INT PRIMARY KEY IDENTITY (1, 1),\r\n",
                "    item_name VARCHAR (50) NOT NULL,\r\n",
                "    qty int  NOT NULL,\r\n",
                "    eta_in_weeks int     \r\n",
                ");"
            ],
            "metadata": {
                "azdata_cell_guid": "d9238911-6f81-4f01-980d-b584307effaf",
                "language": "sql"
            },
            "outputs": [
                {
                    "output_type": "display_data",
                    "data": {
                        "text/html": "Commands completed successfully."
                    },
                    "metadata": {}
                },
                {
                    "output_type": "display_data",
                    "data": {
                        "text/html": "Total execution time: 00:00:00.055"
                    },
                    "metadata": {}
                }
            ],
            "execution_count": 8
        },
        {
            "cell_type": "markdown",
            "source": [
                "Add three rows to your table that are your planned makes."
            ],
            "metadata": {
                "azdata_cell_guid": "83cdf34d-8c4f-4fa1-a14e-77384b19d734"
            }
        },
        {
            "cell_type": "code",
            "source": [
                "SET IDENTITY_INSERT nalini.wood_working ON\r\n",
                "INSERT INTO nalini.wood_working (item_id, item_name,qty,eta_in_weeks)\r\n",
                "VALUES (1, 'dining tables', 4, 3)\r\n",
                "INSERT INTO nalini.wood_working (item_id, item_name,qty,eta_in_weeks)\r\n",
                "VALUES (2, 'entertainment center', 1, 6)\r\n",
                "INSERT INTO nalini.wood_working (item_id, item_name,qty,eta_in_weeks)\r\n",
                "VALUES (3, 'kids bunk bed', 1, 2)\r\n",
                "SET IDENTITY_INSERT nalini.wood_working OFF\r\n",
                "\r\n",
                "select * from nalini.wood_working;"
            ],
            "metadata": {
                "azdata_cell_guid": "e7cff9cb-87ba-4c7b-98f2-eaf445e8719c",
                "language": "sql"
            },
            "outputs": [
                {
                    "output_type": "display_data",
                    "data": {
                        "text/html": "(1 row affected)"
                    },
                    "metadata": {}
                },
                {
                    "output_type": "display_data",
                    "data": {
                        "text/html": "(1 row affected)"
                    },
                    "metadata": {}
                },
                {
                    "output_type": "display_data",
                    "data": {
                        "text/html": "(1 row affected)"
                    },
                    "metadata": {}
                },
                {
                    "output_type": "display_data",
                    "data": {
                        "text/html": "(3 rows affected)"
                    },
                    "metadata": {}
                },
                {
                    "output_type": "display_data",
                    "data": {
                        "text/html": "Total execution time: 00:00:00.093"
                    },
                    "metadata": {}
                },
                {
                    "output_type": "execute_result",
                    "execution_count": 12,
                    "data": {
                        "application/vnd.dataresource+json": {
                            "schema": {
                                "fields": [
                                    {
                                        "name": "item_id"
                                    },
                                    {
                                        "name": "item_name"
                                    },
                                    {
                                        "name": "qty"
                                    },
                                    {
                                        "name": "eta_in_weeks"
                                    }
                                ]
                            },
                            "data": [
                                {
                                    "0": "1",
                                    "1": "dining tables",
                                    "2": "4",
                                    "3": "3"
                                },
                                {
                                    "0": "2",
                                    "1": "entertainment center",
                                    "2": "1",
                                    "3": "6"
                                },
                                {
                                    "0": "3",
                                    "1": "kids bunk bed",
                                    "2": "1",
                                    "3": "2"
                                }
                            ]
                        },
                        "text/html": "<table><tr><th>item_id</th><th>item_name</th><th>qty</th><th>eta_in_weeks</th></tr><tr><td>1</td><td>dining tables</td><td>4</td><td>3</td></tr><tr><td>2</td><td>entertainment center</td><td>1</td><td>6</td></tr><tr><td>3</td><td>kids bunk bed</td><td>1</td><td>2</td></tr></table>"
                    },
                    "metadata": {}
                }
            ],
            "execution_count": 12
        },
        {
            "cell_type": "markdown",
            "source": [
                "## Update a Row\n",
                "\n",
                "Change different values in one of your three rows."
            ],
            "metadata": {
                "azdata_cell_guid": "4a39b8d4-ae97-4e09-8336-c5fc6a00d76c"
            },
            "attachments": {}
        },
        {
            "cell_type": "code",
            "source": [
                "Update nalini.wood_working set item_name='twin bed', qty = 2, eta_in_weeks = 3\r\n",
                "where item_id = 3;\r\n",
                "select * from nalini.wood_working;"
            ],
            "metadata": {
                "azdata_cell_guid": "7409c695-9581-4ad8-b03a-574d2c4c87cb",
                "language": "sql"
            },
            "outputs": [
                {
                    "output_type": "display_data",
                    "data": {
                        "text/html": "(1 row affected)"
                    },
                    "metadata": {}
                },
                {
                    "output_type": "display_data",
                    "data": {
                        "text/html": "(3 rows affected)"
                    },
                    "metadata": {}
                },
                {
                    "output_type": "display_data",
                    "data": {
                        "text/html": "Total execution time: 00:00:00.069"
                    },
                    "metadata": {}
                },
                {
                    "output_type": "execute_result",
                    "execution_count": 13,
                    "data": {
                        "application/vnd.dataresource+json": {
                            "schema": {
                                "fields": [
                                    {
                                        "name": "item_id"
                                    },
                                    {
                                        "name": "item_name"
                                    },
                                    {
                                        "name": "qty"
                                    },
                                    {
                                        "name": "eta_in_weeks"
                                    }
                                ]
                            },
                            "data": [
                                {
                                    "0": "1",
                                    "1": "dining tables",
                                    "2": "4",
                                    "3": "3"
                                },
                                {
                                    "0": "2",
                                    "1": "entertainment center",
                                    "2": "1",
                                    "3": "6"
                                },
                                {
                                    "0": "3",
                                    "1": "twin bed",
                                    "2": "2",
                                    "3": "3"
                                }
                            ]
                        },
                        "text/html": "<table><tr><th>item_id</th><th>item_name</th><th>qty</th><th>eta_in_weeks</th></tr><tr><td>1</td><td>dining tables</td><td>4</td><td>3</td></tr><tr><td>2</td><td>entertainment center</td><td>1</td><td>6</td></tr><tr><td>3</td><td>twin bed</td><td>2</td><td>3</td></tr></table>"
                    },
                    "metadata": {}
                }
            ],
            "execution_count": 13
        },
        {
            "cell_type": "markdown",
            "source": [
                "## Delete a Row\n",
                "\n",
                "Delete one of the rows from your table."
            ],
            "metadata": {
                "azdata_cell_guid": "95e91a6e-9038-42d9-9401-5738842aba17"
            }
        },
        {
            "cell_type": "code",
            "source": [
                "DELETE FROM nalini.wood_working WHERE item_id = 2;\r\n",
                "select * from nalini.wood_working;"
            ],
            "metadata": {
                "azdata_cell_guid": "749c748f-19b5-4c69-9004-b6b20216616a",
                "language": "sql"
            },
            "outputs": [
                {
                    "output_type": "display_data",
                    "data": {
                        "text/html": "(1 row affected)"
                    },
                    "metadata": {}
                },
                {
                    "output_type": "display_data",
                    "data": {
                        "text/html": "(2 rows affected)"
                    },
                    "metadata": {}
                },
                {
                    "output_type": "display_data",
                    "data": {
                        "text/html": "Total execution time: 00:00:00.066"
                    },
                    "metadata": {}
                },
                {
                    "output_type": "execute_result",
                    "execution_count": 14,
                    "data": {
                        "application/vnd.dataresource+json": {
                            "schema": {
                                "fields": [
                                    {
                                        "name": "item_id"
                                    },
                                    {
                                        "name": "item_name"
                                    },
                                    {
                                        "name": "qty"
                                    },
                                    {
                                        "name": "eta_in_weeks"
                                    }
                                ]
                            },
                            "data": [
                                {
                                    "0": "1",
                                    "1": "dining tables",
                                    "2": "4",
                                    "3": "3"
                                },
                                {
                                    "0": "3",
                                    "1": "twin bed",
                                    "2": "2",
                                    "3": "3"
                                }
                            ]
                        },
                        "text/html": "<table><tr><th>item_id</th><th>item_name</th><th>qty</th><th>eta_in_weeks</th></tr><tr><td>1</td><td>dining tables</td><td>4</td><td>3</td></tr><tr><td>3</td><td>twin bed</td><td>2</td><td>3</td></tr></table>"
                    },
                    "metadata": {}
                }
            ],
            "execution_count": 14
        },
        {
            "cell_type": "markdown",
            "source": [
                "## Drop the Table\n",
                "\n",
                "While this has been fun, it is time to drop the table!"
            ],
            "metadata": {
                "azdata_cell_guid": "2239cb09-137b-4579-905b-1aa020793181"
            },
            "attachments": {}
        },
        {
            "cell_type": "code",
            "source": [
                "drop table nalini.wood_working"
            ],
            "metadata": {
                "azdata_cell_guid": "b3c7f6ea-ee26-46b3-9c2a-2f7a82c39699",
                "language": "sql"
            },
            "outputs": [
                {
                    "output_type": "display_data",
                    "data": {
                        "text/html": "Commands completed successfully."
                    },
                    "metadata": {}
                },
                {
                    "output_type": "display_data",
                    "data": {
                        "text/html": "Total execution time: 00:00:00.054"
                    },
                    "metadata": {}
                }
            ],
            "execution_count": 15
        }
    ]
}